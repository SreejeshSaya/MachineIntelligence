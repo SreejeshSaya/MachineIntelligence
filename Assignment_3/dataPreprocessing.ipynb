{
 "metadata": {
  "language_info": {
   "codemirror_mode": {
    "name": "ipython",
    "version": 3
   },
   "file_extension": ".py",
   "mimetype": "text/x-python",
   "name": "python",
   "nbconvert_exporter": "python",
   "pygments_lexer": "ipython3",
   "version": "3.7.7-final"
  },
  "orig_nbformat": 2,
  "kernelspec": {
   "name": "Python 3.7.7 64-bit ('MachineIntelligence': conda)",
   "display_name": "Python 3.7.7 64-bit ('MachineIntelligence': conda)",
   "metadata": {
    "interpreter": {
     "hash": "90c00a9d5aa7c3bde12d86d716535fc44fa9760e42e558bc9bf48ac783c0477c"
    }
   }
  }
 },
 "nbformat": 4,
 "nbformat_minor": 2,
 "cells": [
  {
   "cell_type": "code",
   "execution_count": 1,
   "metadata": {},
   "outputs": [],
   "source": [
    "import pandas as pd\n",
    "import numpy as np"
   ]
  },
  {
   "cell_type": "code",
   "execution_count": 2,
   "metadata": {},
   "outputs": [
    {
     "output_type": "stream",
     "name": "stdout",
     "text": [
      "1.1.3\n1.19.3\n"
     ]
    }
   ],
   "source": [
    "print(pd.__version__)\n",
    "print(np.__version__)"
   ]
  },
  {
   "cell_type": "code",
   "execution_count": 19,
   "metadata": {},
   "outputs": [],
   "source": [
    "df = pd.read_csv('LBW_Dataset.csv')"
   ]
  },
  {
   "cell_type": "code",
   "execution_count": 4,
   "metadata": {},
   "outputs": [
    {
     "output_type": "execute_result",
     "data": {
      "text/plain": [
       "       Community        Age     Weight  Delivery phase         HB        IFA  \\\n",
       "count  96.000000  89.000000  85.000000       92.000000  77.000000  96.000000   \n",
       "mean    2.177083  23.752809  45.129412        1.021739   9.076623   0.687500   \n",
       "std     1.213909   3.321011   8.215532        0.146630   0.788052   0.465946   \n",
       "min     1.000000  17.000000  30.000000        1.000000   5.900000   0.000000   \n",
       "25%     1.000000  21.000000  40.000000        1.000000   8.900000   0.000000   \n",
       "50%     2.500000  24.000000  43.000000        1.000000   9.000000   1.000000   \n",
       "75%     3.000000  26.000000  50.000000        1.000000   9.200000   1.000000   \n",
       "max     4.000000  38.000000  65.000000        2.000000  11.000000   1.000000   \n",
       "\n",
       "              BP  Education  Residence     Result  \n",
       "count  81.000000       93.0  94.000000  96.000000  \n",
       "mean    1.725189        5.0   1.138298   0.750000  \n",
       "std     1.449447        0.0   0.347063   0.435286  \n",
       "min     1.200000        5.0   1.000000   0.000000  \n",
       "25%     1.375000        5.0   1.000000   0.750000  \n",
       "50%     1.500000        5.0   1.000000   1.000000  \n",
       "75%     1.661538        5.0   1.000000   1.000000  \n",
       "max    13.875000        5.0   2.000000   1.000000  "
      ],
      "text/html": "<div>\n<style scoped>\n    .dataframe tbody tr th:only-of-type {\n        vertical-align: middle;\n    }\n\n    .dataframe tbody tr th {\n        vertical-align: top;\n    }\n\n    .dataframe thead th {\n        text-align: right;\n    }\n</style>\n<table border=\"1\" class=\"dataframe\">\n  <thead>\n    <tr style=\"text-align: right;\">\n      <th></th>\n      <th>Community</th>\n      <th>Age</th>\n      <th>Weight</th>\n      <th>Delivery phase</th>\n      <th>HB</th>\n      <th>IFA</th>\n      <th>BP</th>\n      <th>Education</th>\n      <th>Residence</th>\n      <th>Result</th>\n    </tr>\n  </thead>\n  <tbody>\n    <tr>\n      <th>count</th>\n      <td>96.000000</td>\n      <td>89.000000</td>\n      <td>85.000000</td>\n      <td>92.000000</td>\n      <td>77.000000</td>\n      <td>96.000000</td>\n      <td>81.000000</td>\n      <td>93.0</td>\n      <td>94.000000</td>\n      <td>96.000000</td>\n    </tr>\n    <tr>\n      <th>mean</th>\n      <td>2.177083</td>\n      <td>23.752809</td>\n      <td>45.129412</td>\n      <td>1.021739</td>\n      <td>9.076623</td>\n      <td>0.687500</td>\n      <td>1.725189</td>\n      <td>5.0</td>\n      <td>1.138298</td>\n      <td>0.750000</td>\n    </tr>\n    <tr>\n      <th>std</th>\n      <td>1.213909</td>\n      <td>3.321011</td>\n      <td>8.215532</td>\n      <td>0.146630</td>\n      <td>0.788052</td>\n      <td>0.465946</td>\n      <td>1.449447</td>\n      <td>0.0</td>\n      <td>0.347063</td>\n      <td>0.435286</td>\n    </tr>\n    <tr>\n      <th>min</th>\n      <td>1.000000</td>\n      <td>17.000000</td>\n      <td>30.000000</td>\n      <td>1.000000</td>\n      <td>5.900000</td>\n      <td>0.000000</td>\n      <td>1.200000</td>\n      <td>5.0</td>\n      <td>1.000000</td>\n      <td>0.000000</td>\n    </tr>\n    <tr>\n      <th>25%</th>\n      <td>1.000000</td>\n      <td>21.000000</td>\n      <td>40.000000</td>\n      <td>1.000000</td>\n      <td>8.900000</td>\n      <td>0.000000</td>\n      <td>1.375000</td>\n      <td>5.0</td>\n      <td>1.000000</td>\n      <td>0.750000</td>\n    </tr>\n    <tr>\n      <th>50%</th>\n      <td>2.500000</td>\n      <td>24.000000</td>\n      <td>43.000000</td>\n      <td>1.000000</td>\n      <td>9.000000</td>\n      <td>1.000000</td>\n      <td>1.500000</td>\n      <td>5.0</td>\n      <td>1.000000</td>\n      <td>1.000000</td>\n    </tr>\n    <tr>\n      <th>75%</th>\n      <td>3.000000</td>\n      <td>26.000000</td>\n      <td>50.000000</td>\n      <td>1.000000</td>\n      <td>9.200000</td>\n      <td>1.000000</td>\n      <td>1.661538</td>\n      <td>5.0</td>\n      <td>1.000000</td>\n      <td>1.000000</td>\n    </tr>\n    <tr>\n      <th>max</th>\n      <td>4.000000</td>\n      <td>38.000000</td>\n      <td>65.000000</td>\n      <td>2.000000</td>\n      <td>11.000000</td>\n      <td>1.000000</td>\n      <td>13.875000</td>\n      <td>5.0</td>\n      <td>2.000000</td>\n      <td>1.000000</td>\n    </tr>\n  </tbody>\n</table>\n</div>"
     },
     "metadata": {},
     "execution_count": 4
    }
   ],
   "source": [
    "df.describe()"
   ]
  },
  {
   "cell_type": "code",
   "execution_count": 22,
   "metadata": {},
   "outputs": [
    {
     "output_type": "execute_result",
     "data": {
      "text/plain": [
       "Community         0\n",
       "Age               0\n",
       "Weight            0\n",
       "Delivery phase    0\n",
       "HB                0\n",
       "IFA               0\n",
       "BP                0\n",
       "Education         0\n",
       "Residence         0\n",
       "Result            0\n",
       "dtype: int64"
      ]
     },
     "metadata": {},
     "execution_count": 22
    }
   ],
   "source": [
    "df.isnull().sum()"
   ]
  },
  {
   "cell_type": "code",
   "execution_count": 20,
   "metadata": {},
   "outputs": [
    {
     "output_type": "stream",
     "name": "stdout",
     "text": [
      "24.0\n45\n1.0\n9.0\n1.5\n5.0\n1.0\n"
     ]
    }
   ],
   "source": [
    "medianAge = df['Age'].median()\n",
    "meanWt = int(df['Weight'].mean())\n",
    "medianDP = df.mode()['Delivery phase'][0]\n",
    "medianHB = df['HB'].median()\n",
    "meanBP = df['BP'].median()\n",
    "education = df.mode()['Education'][0]\n",
    "residence = df.mode()['Residence'][0]\n",
    "\n",
    "print(medianAge)\n",
    "print(meanWt)\n",
    "print(medianDP)\n",
    "print(medianHB)\n",
    "print(meanBP)\n",
    "print(education)\n",
    "print(residence)\n"
   ]
  },
  {
   "cell_type": "code",
   "execution_count": 21,
   "metadata": {},
   "outputs": [],
   "source": [
    "df['Age'].fillna(value=medianAge, inplace=True)\n",
    "df['Weight'].fillna(value=meanWt, inplace=True)\n",
    "df['Delivery phase'].fillna(value=medianDP, inplace=True)\n",
    "df['HB'].fillna(value=medianHB, inplace=True)\n",
    "df['BP'].fillna(value=meanBP, inplace=True)\n",
    "df['Education'].fillna(value=education, inplace=True)\n",
    "df['Residence'].fillna(value=residence, inplace=True)"
   ]
  },
  {
   "cell_type": "code",
   "execution_count": 18,
   "metadata": {},
   "outputs": [],
   "source": [
    "modDF = df\n",
    "modDF.to_csv('modifiedLBW.csv', index=False"
   ]
  },
  {
   "cell_type": "code",
   "execution_count": 8,
   "metadata": {},
   "outputs": [
    {
     "output_type": "execute_result",
     "data": {
      "text/plain": [
       "     Age  Weight   HB     BP\n",
       "0   21.0    42.0  9.2  1.375\n",
       "1   21.0    45.0  8.8  1.500\n",
       "2   21.0    45.0  9.2  2.125\n",
       "3   21.0    45.0  8.0  1.375\n",
       "4   24.0    33.0  9.3  1.571\n",
       "..   ...     ...  ...    ...\n",
       "91  21.0    55.0  9.0  1.375\n",
       "92  24.0    39.0  8.4  1.500\n",
       "93  24.0    50.0  9.0  1.375\n",
       "94  24.0    38.0  9.0  1.500\n",
       "95  21.0    50.0  9.0  1.375\n",
       "\n",
       "[96 rows x 4 columns]"
      ],
      "text/html": "<div>\n<style scoped>\n    .dataframe tbody tr th:only-of-type {\n        vertical-align: middle;\n    }\n\n    .dataframe tbody tr th {\n        vertical-align: top;\n    }\n\n    .dataframe thead th {\n        text-align: right;\n    }\n</style>\n<table border=\"1\" class=\"dataframe\">\n  <thead>\n    <tr style=\"text-align: right;\">\n      <th></th>\n      <th>Age</th>\n      <th>Weight</th>\n      <th>HB</th>\n      <th>BP</th>\n    </tr>\n  </thead>\n  <tbody>\n    <tr>\n      <th>0</th>\n      <td>21.0</td>\n      <td>42.0</td>\n      <td>9.2</td>\n      <td>1.375</td>\n    </tr>\n    <tr>\n      <th>1</th>\n      <td>21.0</td>\n      <td>45.0</td>\n      <td>8.8</td>\n      <td>1.500</td>\n    </tr>\n    <tr>\n      <th>2</th>\n      <td>21.0</td>\n      <td>45.0</td>\n      <td>9.2</td>\n      <td>2.125</td>\n    </tr>\n    <tr>\n      <th>3</th>\n      <td>21.0</td>\n      <td>45.0</td>\n      <td>8.0</td>\n      <td>1.375</td>\n    </tr>\n    <tr>\n      <th>4</th>\n      <td>24.0</td>\n      <td>33.0</td>\n      <td>9.3</td>\n      <td>1.571</td>\n    </tr>\n    <tr>\n      <th>...</th>\n      <td>...</td>\n      <td>...</td>\n      <td>...</td>\n      <td>...</td>\n    </tr>\n    <tr>\n      <th>91</th>\n      <td>21.0</td>\n      <td>55.0</td>\n      <td>9.0</td>\n      <td>1.375</td>\n    </tr>\n    <tr>\n      <th>92</th>\n      <td>24.0</td>\n      <td>39.0</td>\n      <td>8.4</td>\n      <td>1.500</td>\n    </tr>\n    <tr>\n      <th>93</th>\n      <td>24.0</td>\n      <td>50.0</td>\n      <td>9.0</td>\n      <td>1.375</td>\n    </tr>\n    <tr>\n      <th>94</th>\n      <td>24.0</td>\n      <td>38.0</td>\n      <td>9.0</td>\n      <td>1.500</td>\n    </tr>\n    <tr>\n      <th>95</th>\n      <td>21.0</td>\n      <td>50.0</td>\n      <td>9.0</td>\n      <td>1.375</td>\n    </tr>\n  </tbody>\n</table>\n<p>96 rows × 4 columns</p>\n</div>"
     },
     "metadata": {},
     "execution_count": 8
    }
   ],
   "source": [
    "newdf = df[['Age', 'Weight', 'HB', 'BP']]\n",
    "newdf"
   ]
  },
  {
   "cell_type": "code",
   "execution_count": 11,
   "metadata": {},
   "outputs": [
    {
     "output_type": "execute_result",
     "data": {
      "text/plain": [
       "Age       1.0\n",
       "Weight    1.0\n",
       "HB        1.0\n",
       "BP        1.0\n",
       "dtype: float64"
      ]
     },
     "metadata": {},
     "execution_count": 11
    }
   ],
   "source": [
    "normalized_df=(newdf-newdf.mean())/newdf.std()\n",
    "normalized_df\n",
    "normalized_df.mean()\n",
    "normalized_df.std()\n"
   ]
  },
  {
   "cell_type": "code",
   "execution_count": 16,
   "metadata": {},
   "outputs": [],
   "source": [
    "df.to_csv('Final_LBW.csv', index=False)"
   ]
  },
  {
   "cell_type": "code",
   "execution_count": null,
   "metadata": {},
   "outputs": [],
   "source": []
  },
  {
   "cell_type": "code",
   "execution_count": 14,
   "metadata": {},
   "outputs": [
    {
     "output_type": "stream",
     "name": "stdout",
     "text": [
      "    Community       Age    Weight  Delivery phase        HB  IFA        BP  \\\n0           1 -0.866706 -0.403163             1.0  0.196367    1 -0.236375   \n1           1 -0.866706 -0.014832             1.0 -0.370588    1 -0.142577   \n2           1 -0.866706 -0.014832             1.0  0.196367    1  0.326417   \n3           1 -0.866706 -0.014832             1.0 -1.504500    1 -0.236375   \n4           1  0.071682 -1.568154             1.0  0.338106    1 -0.089299   \n..        ...       ...       ...             ...       ...  ...       ...   \n91          3 -0.866706  1.279603             1.0 -0.087110    0 -0.236375   \n92          3  0.071682 -0.791493             2.0 -0.937544    0 -0.142577   \n93          3  0.071682  0.632385             1.0 -0.087110    0 -0.236375   \n94          1  0.071682 -0.920937             1.0 -0.087110    0 -0.142577   \n95          3 -0.866706  0.632385             1.0 -0.087110    1 -0.236375   \n\n    Education  Residence  Result  \n0         5.0        1.0       0  \n1         5.0        1.0       0  \n2         5.0        1.0       0  \n3         5.0        1.0       0  \n4         5.0        1.0       0  \n..        ...        ...     ...  \n91        5.0        1.0       1  \n92        5.0        1.0       1  \n93        5.0        1.0       1  \n94        5.0        1.0       1  \n95        5.0        1.0       1  \n\n[96 rows x 10 columns]\n"
     ]
    }
   ],
   "source": [
    "df[['Age', 'Weight', 'HB', 'BP']] = normalized_df[['Age', 'Weight', 'HB', 'BP']]\n",
    "print(df)\n"
   ]
  },
  {
   "cell_type": "markdown",
   "metadata": {},
   "source": [
    "Standardization"
   ]
  },
  {
   "cell_type": "code",
   "execution_count": 3,
   "metadata": {},
   "outputs": [],
   "source": [
    "df = pd.read_csv('modifiedLBW.csv')"
   ]
  },
  {
   "cell_type": "code",
   "execution_count": 28,
   "metadata": {},
   "outputs": [],
   "source": [
    "def normalize(mat):\n",
    "   # print(mat)\n",
    "   mat -= mat.mean(1)\n",
    "   # print(mat.mean(1))\n",
    "   mat /= mat.std(1)\n",
    "   # print(mat[0].mean())\n",
    "   print(\"Mean\", mat[0])\n"
   ]
  },
  {
   "cell_type": "code",
   "execution_count": 4,
   "metadata": {},
   "outputs": [
    {
     "output_type": "stream",
     "name": "stdout",
     "text": [
      "[-0.40527892 -0.01490993 -0.01490993 -0.01490993 -1.5763859  -1.31613991\n -1.8366319  -1.9667549  -1.9667549  -0.01490993 -0.92577091 -1.7065089\n -0.01490993 -1.5763859  -0.01490993 -0.79564791 -0.01490993 -0.66552492\n -0.66552492 -0.01490993 -0.01490993 -0.01490993 -0.01490993 -0.01490993\n  0.50558206 -0.66552492 -0.66552492 -0.01490993  0.37545907  1.93693504\n -1.05589391  0.37545907  0.63570506 -1.31613991 -0.66552492  2.58755003\n  0.37545907  1.28632005 -0.79564791 -0.66552492 -0.66552492 -0.27515592\n -0.79564791  2.45742703 -0.66552492 -0.01490993  0.89595106 -1.31613991\n -0.40527892  1.15619705 -0.66552492 -0.66552492 -0.27515592  0.11521307\n  0.50558206  2.19718104 -0.66552492 -0.53540192  1.93693504  1.93693504\n -0.66552492 -0.53540192  1.28632005  0.76582806  0.89595106  0.76582806\n  0.63570506 -0.27515592 -0.66552492 -0.14503292 -0.14503292  1.41644305\n  1.93693504 -0.66552492  0.63570506 -0.27515592  2.32730404  0.11521307\n -0.27515592  1.93693504  0.37545907 -0.79564791 -0.66552492 -0.27515592\n -0.14503292  0.89595106 -0.01490993 -0.40527892  0.37545907 -0.66552492\n  0.50558206  1.28632005 -0.79564791  0.63570506 -0.92577091  0.63570506]\n1.0\n"
     ]
    }
   ],
   "source": [
    "weight = np.asarray(df['Weight'].values)\n",
    "weight -= np.mean(weight)\n",
    "weight /= np.std(weight)\n",
    "print(weight)\n",
    "weight.mean()\n",
    "print(np.std(weight))\n",
    "\n",
    "\n",
    "# norm = np.linalg.norm(weight)\n",
    "# normal_array = weight/norm\n",
    "# print(normal_array.mean())"
   ]
  },
  {
   "cell_type": "code",
   "execution_count": 30,
   "metadata": {},
   "outputs": [
    {
     "output_type": "stream",
     "name": "stdout",
     "text": [
      "[[42.  45.  45.  45.  33.  35.  31.  30.  30.  45.  38.  32.  45.  33.\n  45.  39.  45.  40.  40.  45.  45.  45.  45.  45.  49.  40.  40.  45.\n  48.  60.  37.  48.  50.  35.  40.  65.  48.  55.  39.  40.  40.  43.\n  39.  64.  40.  45.  52.  35.  42.  54.  40.  40.  43.  46.  49.  62.\n  40.  41.  60.  60.  40.  41.  55.  51.  52.  51.  50.  43.  40.  44.\n  44.  56.  60.  40.  50.  43.  63.  46.  43.  60.  48.  39.  40.  43.\n  44.  52.  45.  42.  48.  40.  49.  55.  39.  50.  38.  50. ]\n [ 9.2  8.8  9.2  8.   9.3  9.2  9.   9.   9.   9.9  9.   9.   9.  10.\n   8.9  9.   9.   9.   9.   9.6  9.   8.   9.4  9.   8.9  8.7  9.5  9.\n   9.6  9.   9.   9.   9.2  8.9  9.1  9.   9.6  9.   8.9  9.   8.9  9.\n   8.9  8.8  9.2  9.3  8.4  9.2  9.2  8.9  9.2  8.9  9.2  6.2  9.4  9.\n   9.2  9.   9.2 10.9  7.9  9.1  8.   8.   8.8 10.8  9.2 10.2  9.3 10.4\n  11.   8.4 10.  11.   5.9  9.   8.9  9.   9.2  9.2  9.2  9.   9.   9.\n   9.   9.   9.   9.   9.   9.   9.1  9.   8.4  9.   9.   9. ]]\n"
     ]
    },
    {
     "output_type": "execute_result",
     "data": {
      "text/plain": [
       "matrix([[45.11458333],\n",
       "        [ 9.06145833]])"
      ]
     },
     "metadata": {},
     "execution_count": 30
    }
   ],
   "source": [
    "mat = np.matrix([df['Weight'].values, df['HB'].values])\n",
    "print(mat)\n",
    "mat.mean(1)\n"
   ]
  },
  {
   "cell_type": "code",
   "execution_count": 31,
   "metadata": {},
   "outputs": [
    {
     "output_type": "execute_result",
     "data": {
      "text/plain": [
       "matrix([[7.68503659],\n",
       "        [0.70183833]])"
      ]
     },
     "metadata": {},
     "execution_count": 31
    }
   ],
   "source": [
    "mat.std(1)"
   ]
  },
  {
   "cell_type": "code",
   "execution_count": null,
   "metadata": {},
   "outputs": [],
   "source": []
  },
  {
   "cell_type": "code",
   "execution_count": 32,
   "metadata": {},
   "outputs": [
    {
     "output_type": "stream",
     "name": "stdout",
     "text": [
      "Mean [[-0.40527892 -0.01490993 -0.01490993 -0.01490993 -1.5763859  -1.31613991\n  -1.8366319  -1.9667549  -1.9667549  -0.01490993 -0.92577091 -1.7065089\n  -0.01490993 -1.5763859  -0.01490993 -0.79564791 -0.01490993 -0.66552492\n  -0.66552492 -0.01490993 -0.01490993 -0.01490993 -0.01490993 -0.01490993\n   0.50558206 -0.66552492 -0.66552492 -0.01490993  0.37545907  1.93693504\n  -1.05589391  0.37545907  0.63570506 -1.31613991 -0.66552492  2.58755003\n   0.37545907  1.28632005 -0.79564791 -0.66552492 -0.66552492 -0.27515592\n  -0.79564791  2.45742703 -0.66552492 -0.01490993  0.89595106 -1.31613991\n  -0.40527892  1.15619705 -0.66552492 -0.66552492 -0.27515592  0.11521307\n   0.50558206  2.19718104 -0.66552492 -0.53540192  1.93693504  1.93693504\n  -0.66552492 -0.53540192  1.28632005  0.76582806  0.89595106  0.76582806\n   0.63570506 -0.27515592 -0.66552492 -0.14503292 -0.14503292  1.41644305\n   1.93693504 -0.66552492  0.63570506 -0.27515592  2.32730404  0.11521307\n  -0.27515592  1.93693504  0.37545907 -0.79564791 -0.66552492 -0.27515592\n  -0.14503292  0.89595106 -0.01490993 -0.40527892  0.37545907 -0.66552492\n   0.50558206  1.28632005 -0.79564791  0.63570506 -0.92577091  0.63570506]]\n"
     ]
    }
   ],
   "source": [
    "normalize(mat)"
   ]
  },
  {
   "cell_type": "code",
   "execution_count": 19,
   "metadata": {},
   "outputs": [
    {
     "output_type": "error",
     "ename": "ModuleNotFoundError",
     "evalue": "No module named 'sklearn'",
     "traceback": [
      "\u001b[0;31m---------------------------------------------------------------------------\u001b[0m",
      "\u001b[0;31mModuleNotFoundError\u001b[0m                       Traceback (most recent call last)",
      "\u001b[0;32m<ipython-input-19-296ef62e8f41>\u001b[0m in \u001b[0;36m<module>\u001b[0;34m\u001b[0m\n\u001b[0;32m----> 1\u001b[0;31m \u001b[0;32mfrom\u001b[0m \u001b[0msklearn\u001b[0m\u001b[0;34m.\u001b[0m\u001b[0mpreprocessing\u001b[0m \u001b[0;32mimport\u001b[0m \u001b[0mStandardScaler\u001b[0m\u001b[0;34m\u001b[0m\u001b[0;34m\u001b[0m\u001b[0m\n\u001b[0m",
      "\u001b[0;31mModuleNotFoundError\u001b[0m: No module named 'sklearn'"
     ]
    }
   ],
   "source": [
    "from sklearn.preprocessing import StandardScaler"
   ]
  },
  {
   "cell_type": "code",
   "execution_count": 22,
   "metadata": {},
   "outputs": [],
   "source": [
    "import matplotlib.pyplot as plt"
   ]
  },
  {
   "cell_type": "code",
   "execution_count": 24,
   "metadata": {},
   "outputs": [
    {
     "output_type": "display_data",
     "data": {
      "text/plain": "<Figure size 432x288 with 1 Axes>",
      "image/svg+xml": "<?xml version=\"1.0\" encoding=\"utf-8\" standalone=\"no\"?>\n<!DOCTYPE svg PUBLIC \"-//W3C//DTD SVG 1.1//EN\"\n  \"http://www.w3.org/Graphics/SVG/1.1/DTD/svg11.dtd\">\n<!-- Created with matplotlib (https://matplotlib.org/) -->\n<svg height=\"250.591629pt\" version=\"1.1\" viewBox=\"0 0 368.925 250.591629\" width=\"368.925pt\" xmlns=\"http://www.w3.org/2000/svg\" xmlns:xlink=\"http://www.w3.org/1999/xlink\">\n <metadata>\n  <rdf:RDF xmlns:cc=\"http://creativecommons.org/ns#\" xmlns:dc=\"http://purl.org/dc/elements/1.1/\" xmlns:rdf=\"http://www.w3.org/1999/02/22-rdf-syntax-ns#\">\n   <cc:Work>\n    <dc:type rdf:resource=\"http://purl.org/dc/dcmitype/StillImage\"/>\n    <dc:date>2020-10-29T16:49:22.603228</dc:date>\n    <dc:format>image/svg+xml</dc:format>\n    <dc:creator>\n     <cc:Agent>\n      <dc:title>Matplotlib v3.3.2, https://matplotlib.org/</dc:title>\n     </cc:Agent>\n    </dc:creator>\n   </cc:Work>\n  </rdf:RDF>\n </metadata>\n <defs>\n  <style type=\"text/css\">*{stroke-linecap:butt;stroke-linejoin:round;}</style>\n </defs>\n <g id=\"figure_1\">\n  <g id=\"patch_1\">\n   <path d=\"M -0 250.591629 \nL 368.925 250.591629 \nL 368.925 0 \nL -0 0 \nz\n\" style=\"fill:none;\"/>\n  </g>\n  <g id=\"axes_1\">\n   <g id=\"patch_2\">\n    <path d=\"M 26.925 226.713504 \nL 361.725 226.713504 \nL 361.725 9.273504 \nL 26.925 9.273504 \nz\n\" style=\"fill:#ffffff;\"/>\n   </g>\n   <g id=\"patch_3\">\n    <path clip-path=\"url(#p97c8f9bdef)\" d=\"M 42.143182 226.713504 \nL 72.579545 226.713504 \nL 72.579545 174.942076 \nL 42.143182 174.942076 \nz\n\" style=\"fill:#1f77b4;\"/>\n   </g>\n   <g id=\"patch_4\">\n    <path clip-path=\"url(#p97c8f9bdef)\" d=\"M 72.579545 226.713504 \nL 103.015909 226.713504 \nL 103.015909 200.82779 \nL 72.579545 200.82779 \nz\n\" style=\"fill:#1f77b4;\"/>\n   </g>\n   <g id=\"patch_5\">\n    <path clip-path=\"url(#p97c8f9bdef)\" d=\"M 103.015909 226.713504 \nL 133.452273 226.713504 \nL 133.452273 19.62779 \nL 103.015909 19.62779 \nz\n\" style=\"fill:#1f77b4;\"/>\n   </g>\n   <g id=\"patch_6\">\n    <path clip-path=\"url(#p97c8f9bdef)\" d=\"M 133.452273 226.713504 \nL 163.888636 226.713504 \nL 163.888636 131.799219 \nL 133.452273 131.799219 \nz\n\" style=\"fill:#1f77b4;\"/>\n   </g>\n   <g id=\"patch_7\">\n    <path clip-path=\"url(#p97c8f9bdef)\" d=\"M 163.888636 226.713504 \nL 194.325 226.713504 \nL 194.325 54.142076 \nL 163.888636 54.142076 \nz\n\" style=\"fill:#1f77b4;\"/>\n   </g>\n   <g id=\"patch_8\">\n    <path clip-path=\"url(#p97c8f9bdef)\" d=\"M 194.325 226.713504 \nL 224.761364 226.713504 \nL 224.761364 97.284933 \nL 194.325 97.284933 \nz\n\" style=\"fill:#1f77b4;\"/>\n   </g>\n   <g id=\"patch_9\">\n    <path clip-path=\"url(#p97c8f9bdef)\" d=\"M 224.761364 226.713504 \nL 255.197727 226.713504 \nL 255.197727 192.199219 \nL 224.761364 192.199219 \nz\n\" style=\"fill:#1f77b4;\"/>\n   </g>\n   <g id=\"patch_10\">\n    <path clip-path=\"url(#p97c8f9bdef)\" d=\"M 255.197727 226.713504 \nL 285.634091 226.713504 \nL 285.634091 192.199219 \nL 255.197727 192.199219 \nz\n\" style=\"fill:#1f77b4;\"/>\n   </g>\n   <g id=\"patch_11\">\n    <path clip-path=\"url(#p97c8f9bdef)\" d=\"M 285.634091 226.713504 \nL 316.070455 226.713504 \nL 316.070455 183.570647 \nL 285.634091 183.570647 \nz\n\" style=\"fill:#1f77b4;\"/>\n   </g>\n   <g id=\"patch_12\">\n    <path clip-path=\"url(#p97c8f9bdef)\" d=\"M 316.070455 226.713504 \nL 346.506818 226.713504 \nL 346.506818 192.199219 \nL 316.070455 192.199219 \nz\n\" style=\"fill:#1f77b4;\"/>\n   </g>\n   <g id=\"matplotlib.axis_1\">\n    <g id=\"xtick_1\">\n     <g id=\"line2d_1\">\n      <defs>\n       <path d=\"M 0 0 \nL 0 3.5 \n\" id=\"mfedd432471\" style=\"stroke:#000000;stroke-width:0.8;\"/>\n      </defs>\n      <g>\n       <use style=\"stroke:#000000;stroke-width:0.8;\" x=\"39.921416\" xlink:href=\"#mfedd432471\" y=\"226.713504\"/>\n      </g>\n     </g>\n     <g id=\"text_1\">\n      <!-- −2 -->\n      <g transform=\"translate(32.550322 241.311942)scale(0.1 -0.1)\">\n       <defs>\n        <path d=\"M 10.59375 35.5 \nL 73.1875 35.5 \nL 73.1875 27.203125 \nL 10.59375 27.203125 \nz\n\" id=\"DejaVuSans-8722\"/>\n        <path d=\"M 19.1875 8.296875 \nL 53.609375 8.296875 \nL 53.609375 0 \nL 7.328125 0 \nL 7.328125 8.296875 \nQ 12.9375 14.109375 22.625 23.890625 \nQ 32.328125 33.6875 34.8125 36.53125 \nQ 39.546875 41.84375 41.421875 45.53125 \nQ 43.3125 49.21875 43.3125 52.78125 \nQ 43.3125 58.59375 39.234375 62.25 \nQ 35.15625 65.921875 28.609375 65.921875 \nQ 23.96875 65.921875 18.8125 64.3125 \nQ 13.671875 62.703125 7.8125 59.421875 \nL 7.8125 69.390625 \nQ 13.765625 71.78125 18.9375 73 \nQ 24.125 74.21875 28.421875 74.21875 \nQ 39.75 74.21875 46.484375 68.546875 \nQ 53.21875 62.890625 53.21875 53.421875 \nQ 53.21875 48.921875 51.53125 44.890625 \nQ 49.859375 40.875 45.40625 35.40625 \nQ 44.1875 33.984375 37.640625 27.21875 \nQ 31.109375 20.453125 19.1875 8.296875 \nz\n\" id=\"DejaVuSans-50\"/>\n       </defs>\n       <use xlink:href=\"#DejaVuSans-8722\"/>\n       <use x=\"83.789062\" xlink:href=\"#DejaVuSans-50\"/>\n      </g>\n     </g>\n    </g>\n    <g id=\"xtick_2\">\n     <g id=\"line2d_2\">\n      <g>\n       <use style=\"stroke:#000000;stroke-width:0.8;\" x=\"106.751292\" xlink:href=\"#mfedd432471\" y=\"226.713504\"/>\n      </g>\n     </g>\n     <g id=\"text_2\">\n      <!-- −1 -->\n      <g transform=\"translate(99.380198 241.311942)scale(0.1 -0.1)\">\n       <defs>\n        <path d=\"M 12.40625 8.296875 \nL 28.515625 8.296875 \nL 28.515625 63.921875 \nL 10.984375 60.40625 \nL 10.984375 69.390625 \nL 28.421875 72.90625 \nL 38.28125 72.90625 \nL 38.28125 8.296875 \nL 54.390625 8.296875 \nL 54.390625 0 \nL 12.40625 0 \nz\n\" id=\"DejaVuSans-49\"/>\n       </defs>\n       <use xlink:href=\"#DejaVuSans-8722\"/>\n       <use x=\"83.789062\" xlink:href=\"#DejaVuSans-49\"/>\n      </g>\n     </g>\n    </g>\n    <g id=\"xtick_3\">\n     <g id=\"line2d_3\">\n      <g>\n       <use style=\"stroke:#000000;stroke-width:0.8;\" x=\"173.581169\" xlink:href=\"#mfedd432471\" y=\"226.713504\"/>\n      </g>\n     </g>\n     <g id=\"text_3\">\n      <!-- 0 -->\n      <g transform=\"translate(170.399919 241.311942)scale(0.1 -0.1)\">\n       <defs>\n        <path d=\"M 31.78125 66.40625 \nQ 24.171875 66.40625 20.328125 58.90625 \nQ 16.5 51.421875 16.5 36.375 \nQ 16.5 21.390625 20.328125 13.890625 \nQ 24.171875 6.390625 31.78125 6.390625 \nQ 39.453125 6.390625 43.28125 13.890625 \nQ 47.125 21.390625 47.125 36.375 \nQ 47.125 51.421875 43.28125 58.90625 \nQ 39.453125 66.40625 31.78125 66.40625 \nz\nM 31.78125 74.21875 \nQ 44.046875 74.21875 50.515625 64.515625 \nQ 56.984375 54.828125 56.984375 36.375 \nQ 56.984375 17.96875 50.515625 8.265625 \nQ 44.046875 -1.421875 31.78125 -1.421875 \nQ 19.53125 -1.421875 13.0625 8.265625 \nQ 6.59375 17.96875 6.59375 36.375 \nQ 6.59375 54.828125 13.0625 64.515625 \nQ 19.53125 74.21875 31.78125 74.21875 \nz\n\" id=\"DejaVuSans-48\"/>\n       </defs>\n       <use xlink:href=\"#DejaVuSans-48\"/>\n      </g>\n     </g>\n    </g>\n    <g id=\"xtick_4\">\n     <g id=\"line2d_4\">\n      <g>\n       <use style=\"stroke:#000000;stroke-width:0.8;\" x=\"240.411045\" xlink:href=\"#mfedd432471\" y=\"226.713504\"/>\n      </g>\n     </g>\n     <g id=\"text_4\">\n      <!-- 1 -->\n      <g transform=\"translate(237.229795 241.311942)scale(0.1 -0.1)\">\n       <use xlink:href=\"#DejaVuSans-49\"/>\n      </g>\n     </g>\n    </g>\n    <g id=\"xtick_5\">\n     <g id=\"line2d_5\">\n      <g>\n       <use style=\"stroke:#000000;stroke-width:0.8;\" x=\"307.240922\" xlink:href=\"#mfedd432471\" y=\"226.713504\"/>\n      </g>\n     </g>\n     <g id=\"text_5\">\n      <!-- 2 -->\n      <g transform=\"translate(304.059672 241.311942)scale(0.1 -0.1)\">\n       <use xlink:href=\"#DejaVuSans-50\"/>\n      </g>\n     </g>\n    </g>\n   </g>\n   <g id=\"matplotlib.axis_2\">\n    <g id=\"ytick_1\">\n     <g id=\"line2d_6\">\n      <defs>\n       <path d=\"M 0 0 \nL -3.5 0 \n\" id=\"m7b70e606c2\" style=\"stroke:#000000;stroke-width:0.8;\"/>\n      </defs>\n      <g>\n       <use style=\"stroke:#000000;stroke-width:0.8;\" x=\"26.925\" xlink:href=\"#m7b70e606c2\" y=\"226.713504\"/>\n      </g>\n     </g>\n     <g id=\"text_6\">\n      <!-- 0 -->\n      <g transform=\"translate(13.5625 230.512723)scale(0.1 -0.1)\">\n       <use xlink:href=\"#DejaVuSans-48\"/>\n      </g>\n     </g>\n    </g>\n    <g id=\"ytick_2\">\n     <g id=\"line2d_7\">\n      <g>\n       <use style=\"stroke:#000000;stroke-width:0.8;\" x=\"26.925\" xlink:href=\"#m7b70e606c2\" y=\"183.570647\"/>\n      </g>\n     </g>\n     <g id=\"text_7\">\n      <!-- 5 -->\n      <g transform=\"translate(13.5625 187.369866)scale(0.1 -0.1)\">\n       <defs>\n        <path d=\"M 10.796875 72.90625 \nL 49.515625 72.90625 \nL 49.515625 64.59375 \nL 19.828125 64.59375 \nL 19.828125 46.734375 \nQ 21.96875 47.46875 24.109375 47.828125 \nQ 26.265625 48.1875 28.421875 48.1875 \nQ 40.625 48.1875 47.75 41.5 \nQ 54.890625 34.8125 54.890625 23.390625 \nQ 54.890625 11.625 47.5625 5.09375 \nQ 40.234375 -1.421875 26.90625 -1.421875 \nQ 22.3125 -1.421875 17.546875 -0.640625 \nQ 12.796875 0.140625 7.71875 1.703125 \nL 7.71875 11.625 \nQ 12.109375 9.234375 16.796875 8.0625 \nQ 21.484375 6.890625 26.703125 6.890625 \nQ 35.15625 6.890625 40.078125 11.328125 \nQ 45.015625 15.765625 45.015625 23.390625 \nQ 45.015625 31 40.078125 35.4375 \nQ 35.15625 39.890625 26.703125 39.890625 \nQ 22.75 39.890625 18.8125 39.015625 \nQ 14.890625 38.140625 10.796875 36.28125 \nz\n\" id=\"DejaVuSans-53\"/>\n       </defs>\n       <use xlink:href=\"#DejaVuSans-53\"/>\n      </g>\n     </g>\n    </g>\n    <g id=\"ytick_3\">\n     <g id=\"line2d_8\">\n      <g>\n       <use style=\"stroke:#000000;stroke-width:0.8;\" x=\"26.925\" xlink:href=\"#m7b70e606c2\" y=\"140.42779\"/>\n      </g>\n     </g>\n     <g id=\"text_8\">\n      <!-- 10 -->\n      <g transform=\"translate(7.2 144.227009)scale(0.1 -0.1)\">\n       <use xlink:href=\"#DejaVuSans-49\"/>\n       <use x=\"63.623047\" xlink:href=\"#DejaVuSans-48\"/>\n      </g>\n     </g>\n    </g>\n    <g id=\"ytick_4\">\n     <g id=\"line2d_9\">\n      <g>\n       <use style=\"stroke:#000000;stroke-width:0.8;\" x=\"26.925\" xlink:href=\"#m7b70e606c2\" y=\"97.284933\"/>\n      </g>\n     </g>\n     <g id=\"text_9\">\n      <!-- 15 -->\n      <g transform=\"translate(7.2 101.084152)scale(0.1 -0.1)\">\n       <use xlink:href=\"#DejaVuSans-49\"/>\n       <use x=\"63.623047\" xlink:href=\"#DejaVuSans-53\"/>\n      </g>\n     </g>\n    </g>\n    <g id=\"ytick_5\">\n     <g id=\"line2d_10\">\n      <g>\n       <use style=\"stroke:#000000;stroke-width:0.8;\" x=\"26.925\" xlink:href=\"#m7b70e606c2\" y=\"54.142076\"/>\n      </g>\n     </g>\n     <g id=\"text_10\">\n      <!-- 20 -->\n      <g transform=\"translate(7.2 57.941295)scale(0.1 -0.1)\">\n       <use xlink:href=\"#DejaVuSans-50\"/>\n       <use x=\"63.623047\" xlink:href=\"#DejaVuSans-48\"/>\n      </g>\n     </g>\n    </g>\n    <g id=\"ytick_6\">\n     <g id=\"line2d_11\">\n      <g>\n       <use style=\"stroke:#000000;stroke-width:0.8;\" x=\"26.925\" xlink:href=\"#m7b70e606c2\" y=\"10.999219\"/>\n      </g>\n     </g>\n     <g id=\"text_11\">\n      <!-- 25 -->\n      <g transform=\"translate(7.2 14.798437)scale(0.1 -0.1)\">\n       <use xlink:href=\"#DejaVuSans-50\"/>\n       <use x=\"63.623047\" xlink:href=\"#DejaVuSans-53\"/>\n      </g>\n     </g>\n    </g>\n   </g>\n   <g id=\"patch_13\">\n    <path d=\"M 26.925 226.713504 \nL 26.925 9.273504 \n\" style=\"fill:none;stroke:#000000;stroke-linecap:square;stroke-linejoin:miter;stroke-width:0.8;\"/>\n   </g>\n   <g id=\"patch_14\">\n    <path d=\"M 361.725 226.713504 \nL 361.725 9.273504 \n\" style=\"fill:none;stroke:#000000;stroke-linecap:square;stroke-linejoin:miter;stroke-width:0.8;\"/>\n   </g>\n   <g id=\"patch_15\">\n    <path d=\"M 26.925 226.713504 \nL 361.725 226.713504 \n\" style=\"fill:none;stroke:#000000;stroke-linecap:square;stroke-linejoin:miter;stroke-width:0.8;\"/>\n   </g>\n   <g id=\"patch_16\">\n    <path d=\"M 26.925 9.273504 \nL 361.725 9.273504 \n\" style=\"fill:none;stroke:#000000;stroke-linecap:square;stroke-linejoin:miter;stroke-width:0.8;\"/>\n   </g>\n  </g>\n </g>\n <defs>\n  <clipPath id=\"p97c8f9bdef\">\n   <rect height=\"217.44\" width=\"334.8\" x=\"26.925\" y=\"9.273504\"/>\n  </clipPath>\n </defs>\n</svg>\n",
      "image/png": "[encoded data removed]"
     },
     "metadata": {
      "needs_background": "light"
     }
    }
   ],
   "source": [
    "plt.hist(weight)\n",
    "plt.show()"
   ]
  },
  {
   "cell_type": "code",
   "execution_count": null,
   "metadata": {},
   "outputs": [],
   "source": []
  }
 ]
}